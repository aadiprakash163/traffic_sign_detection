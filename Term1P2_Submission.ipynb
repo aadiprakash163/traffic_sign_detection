{
 "cells": [
  {
   "cell_type": "markdown",
   "metadata": {},
   "source": [
    "## Traffic sign recognition"
   ]
  },
  {
   "cell_type": "markdown",
   "metadata": {},
   "source": [
    "\n",
    "\n",
    "#### The steps of this project are the following  \n",
    "1). Load Data from the pickle file  \n",
    "2). Visualization of the data provided  \n",
    "3). Preprocessing of dataset  \n",
    "4). Model architecture  \n",
    "5). Train, Validate and Test the model  \n",
    "6). Find accuracy of trained model on test images  \n",
    "7). Test model on new images  \n",
    "8). Summarize model's performnce on new images."
   ]
  },
  {
   "cell_type": "markdown",
   "metadata": {},
   "source": [
    "### Load data from the pickle file"
   ]
  },
  {
   "cell_type": "code",
   "execution_count": 1,
   "metadata": {
    "collapsed": true
   },
   "outputs": [],
   "source": [
    "import pickle\n",
    "import numpy as np\n",
    "import matplotlib.pyplot as plt\n",
    "import tensorflow as tf\n",
    "import random\n",
    "\n",
    "train_data = 'Data/train.p'\n",
    "valid_data = 'Data/valid.p'\n",
    "test_data = 'Data/test.p'\n",
    "\n",
    "with open(train_data, mode = 'rb') as f:   # Open the file in ReadBinary mode\n",
    "    train = pickle.load(f)\n",
    "with open(valid_data, mode = 'rb') as f:\n",
    "    valid = pickle.load(f)\n",
    "with open(test_data, mode = 'rb') as f:\n",
    "    test = pickle.load(f)\n",
    "\n",
    "\n",
    "\n",
    "X_train, y_train = train['features'], train['labels']    # features and labels are fields present in the loaded data\n",
    "X_valid, y_valid = valid['features'], valid['labels']\n",
    "X_test, y_test = test['features'], test['labels']"
   ]
  },
  {
   "cell_type": "markdown",
   "metadata": {},
   "source": [
    "The pickled data is a dictionary with 4 key/value pairs:\n",
    "\n",
    "- `'features'` is a 4D array containing raw pixel data of the traffic sign images, (num examples, width, height, channels).\n",
    "- `'labels'` is a 1D array containing the label/class id of the traffic sign. The file `signnames.csv` contains id -> name mappings for each id.\n",
    "- `'sizes'` is a list containing tuples, (width, height) representing the original width and height the image.\n",
    "- `'coords'` is a list containing tuples, (x1, y1, x2, y2) representing coordinates of a bounding box around the sign in the image. **THESE COORDINATES ASSUME THE ORIGINAL IMAGE. THE PICKLED DATA CONTAINS RESIZED VERSIONS (32 by 32) OF THESE IMAGES**"
   ]
  },
  {
   "cell_type": "code",
   "execution_count": 2,
   "metadata": {},
   "outputs": [
    {
     "name": "stdout",
     "output_type": "stream",
     "text": [
      "Number of training examples = 34799\n",
      "Number of validation examples = 4410\n",
      "Image data shape = (32, 32, 3)\n",
      "Number of classes = 43\n"
     ]
    },
    {
     "data": {
      "text/plain": [
       "<matplotlib.image.AxesImage at 0x7fa376f7a390>"
      ]
     },
     "execution_count": 2,
     "metadata": {},
     "output_type": "execute_result"
    },
    {
     "data": {
      "image/png": "[encoded data removed]",
      "text/plain": [
       "<matplotlib.figure.Figure at 0x7fa380e5c3c8>"
      ]
     },
     "metadata": {},
     "output_type": "display_data"
    }
   ],
   "source": [
    "train_size = len(X_train)\n",
    "valid_size = len(X_valid)\n",
    "n_classes = len(set(y_train))\n",
    "image_size = X_test[0].shape\n",
    "\n",
    "print(\"Number of training examples =\", train_size)\n",
    "print(\"Number of validation examples =\", valid_size)\n",
    "print(\"Image data shape =\", image_size)\n",
    "print(\"Number of classes =\", n_classes)\n",
    "\n",
    "\n",
    "%matplotlib inline\n",
    "# Select any random image and display it\n",
    "index = random.randint(0,train_size)\n",
    "image = X_train[index].squeeze()\n",
    "plt.imshow(image)"
   ]
  },
  {
   "cell_type": "markdown",
   "metadata": {},
   "source": [
    "### Visualization of dataset provided\n",
    "\n",
    "A histogram depicting number of examples of each class present in the data set is shown"
   ]
  },
  {
   "cell_type": "code",
   "execution_count": 3,
   "metadata": {},
   "outputs": [
    {
     "data": {
      "text/plain": [
       "[]"
      ]
     },
     "execution_count": 3,
     "metadata": {},
     "output_type": "execute_result"
    },
    {
     "data": {
      "image/png": "[encoded data removed]",
      "text/plain": [
       "<matplotlib.figure.Figure at 0x7fa3772983c8>"
      ]
     },
     "metadata": {},
     "output_type": "display_data"
    }
   ],
   "source": [
    "plt.hist(y_train, bins = n_classes)\n",
    "plt.title(\"Number of images for each class\")\n",
    "plt.xlabel(\"Class\")\n",
    "plt.ylabel(\"Frequency\")\n",
    "plt.plot()"
   ]
  },
  {
   "cell_type": "markdown",
   "metadata": {},
   "source": [
    "### Preprocessing of dataset\n",
    "* Only preprocessing step that i have performed is normalization. I am not converting images to grayscale because i think having three channels can be useful for traffic sign classifications problems. For instance, if we consider classification of traffic light status, then having the RGB channels is mandatory. Also precautionary and warning signs have different coloring scheme and by using three channels we can also have an idea about how crucial that traffic sign is.\n",
    "\n",
    "* Normalisation is done because of the fact that it scales the data in the range 0 to 1 and in this range, activation functions like logsig and tansig has maximum sensitivity so it leads to better convergence of learning. Though no such function is used in this project, it will still improve the learning curve\n",
    "\n",
    "* The training data is also shuffled when training is done because dataset provided is grouped according to their classes and training for one class at one time and other at other time will lead to distortions in learning and will not be a good strategy.\n",
    "\n",
    "One image from the given dataset and corresponding processed image is also shown below.\n"
   ]
  },
  {
   "cell_type": "code",
   "execution_count": 4,
   "metadata": {},
   "outputs": [
    {
     "data": {
      "text/plain": [
       "<matplotlib.image.AxesImage at 0x7fa376cb9048>"
      ]
     },
     "execution_count": 4,
     "metadata": {},
     "output_type": "execute_result"
    },
    {
     "data": {
      "image/png": "[encoded data removed]",
      "text/plain": [
       "<matplotlib.figure.Figure at 0x7fa376eb9470>"
      ]
     },
     "metadata": {},
     "output_type": "display_data"
    }
   ],
   "source": [
    "X_train_norm = (X_train - X_train.mean())/np.std(X_train)\n",
    "X_valid_norm = (X_valid - X_valid.mean())/np.std(X_valid)\n",
    "X_test_norm = (X_test - X_test.mean()) /np.std(X_test)\n",
    "\n",
    "# Display an image before and after normalization\n",
    "index = random.randint(0,train_size)\n",
    "image_orig = X_train[index]\n",
    "image_normed = X_train_norm[index]\n",
    "plt.subplot(1,2,1)\n",
    "plt.imshow(image_orig)\n",
    "plt.subplot(1,2,2)\n",
    "plt.imshow(image_normed)\n"
   ]
  },
  {
   "cell_type": "markdown",
   "metadata": {},
   "source": [
    "## Model Architecture\n",
    "For model architecture as suggested by course instructors, i have used Lenet architecture from begining. It has two convolutional layers followed by two fully connected layer and output layer. \n",
    "At first learning was done using unprocessed images and untuned hyper parameters, still it generated fairly good results. I could get validation accuracy of about 0.85 in under 50 epochs. Though learning initial errors were high, they seemed to decrease with every epochs.\n",
    "Later on, after using normalised images, convergence got faster and tuning of hyper parameters brought required epochs for an accuracy of 0.93 to around 50 which were earlier around 400. An interesting thing that i noticed was that with proper tuning of hyper parameters we can get a very good leap at the first epoch itself. I am consistently getting around 0.75 to 0.80 accuracy at first epoch itself. But still, there is room for a lot of improvement because the learning stagnates after around 10 epochs and further improvement is slow and oscillatory in nature.\n",
    "Minimum required accuracy is set to 0.95 and iterations are done untill model is not trained to that level i.e. number of epochs is not a hyperparameter here.\n",
    "\n",
    "#### Convolutional network parameters:  \n",
    "Number of convolution layers: 2  \n",
    "Number of fully connected layers: 2  \n",
    "Maxpooling : After each convolution layer  \n",
    "Activation : Relu; after each convolution layer  \n",
    "Convolution filter size: 5X5  \n",
    "Convolution strides: 2  \n",
    "Maxpool 'k': 2  \n",
    "\n",
    "\n"
   ]
  },
  {
   "cell_type": "code",
   "execution_count": 5,
   "metadata": {
    "collapsed": true
   },
   "outputs": [],
   "source": [
    "def conv2d(x,W,b,strides = 1):\n",
    "    \"\"\"Convolution layer wraper\"\"\"\n",
    "    conv_net = tf.nn.conv2d(x,W,strides = [1, strides, strides, 1],padding = 'SAME' )\n",
    "    conv_net = tf.nn.bias_add(conv_net,b)\n",
    "    return conv_net"
   ]
  },
  {
   "cell_type": "code",
   "execution_count": 6,
   "metadata": {
    "collapsed": true
   },
   "outputs": [],
   "source": [
    "def maxpool2d(x, k = 2):\n",
    "    \"\"\"Maxpool wraper\"\"\"\n",
    "    mp = tf.nn.max_pool(x,ksize = [1, k, k, 1],strides = [1, k, k, 1],padding = 'SAME')\n",
    "    return mp"
   ]
  },
  {
   "cell_type": "code",
   "execution_count": 7,
   "metadata": {
    "collapsed": true
   },
   "outputs": [],
   "source": [
    "from tensorflow.contrib.layers import flatten\n",
    "def conv_net(x,dropout):\n",
    "    \"\"\"Convolution network model\"\"\"\n",
    "    cn1 = conv2d(x,weights['wc1'],biases['bc1'])\n",
    "    cn1 = tf.nn.relu(cn1)\n",
    "    cn1 = maxpool2d(cn1, k=2)\n",
    "    \n",
    "\n",
    "    cn2 = conv2d(cn1,weights['wc2'],biases['bc2'])\n",
    "    cn2 = tf.nn.relu(cn2)\n",
    "    cn2 = maxpool2d(cn2, k=2)\n",
    "\n",
    "    fc0 = flatten(cn2)\n",
    "\n",
    "    fc1 = tf.add(tf.matmul(fc0,weights['wfc1']),biases['bfc1'])\n",
    "    fc1 = tf.nn.relu(fc1)\n",
    "    fc1 = tf.nn.dropout(fc1,dropout)\n",
    "    \n",
    "    fc2 = tf.add(tf.matmul(fc1,weights['wfc2']),biases['bfc2'])\n",
    "    fc2 = tf.nn.relu(fc2)\n",
    "    fc2 = tf.nn.dropout(fc2,dropout)\n",
    "\n",
    "    out = tf.add(tf.matmul(fc2,weights['out']),biases['out'])\n",
    "\n",
    "    return out"
   ]
  },
  {
   "cell_type": "markdown",
   "metadata": {},
   "source": [
    "### Train, Validate and Test the model\n",
    "\n",
    "#### Training parameters:\n",
    "Learning rate used in training:0.001   \n",
    "Batch Size: 128   \n",
    "Optimizer used: Adam Optimizer  \n",
    "Dropout conv_net : Not Applied  \n",
    "Dropout at fully connected layer: 0.75  \n",
    "Validation accuracy target : 0.95  \n",
    "  \n",
    "\n"
   ]
  },
  {
   "cell_type": "code",
   "execution_count": 8,
   "metadata": {
    "collapsed": true
   },
   "outputs": [],
   "source": [
    "learn_rate = 0.001\n",
    "batch_size = 128\n",
    "\n",
    "\n",
    "\n",
    "weights = {\n",
    "    'wc1' : tf.Variable(tf.truncated_normal([5,5,3,32],mean = 0, stddev = 0.1)),\n",
    "    'wc2' : tf.Variable(tf.truncated_normal([5,5,32,64],mean = 0, stddev = 0.1)),\n",
    "    'wfc1' : tf.Variable(tf.truncated_normal([8*8*64,1024],mean = 0, stddev = 0.1)),\n",
    "    'wfc2' : tf.Variable(tf.truncated_normal([1024,400],mean = 0, stddev = 0.1)),\n",
    "    'out'  : tf.Variable(tf.truncated_normal([400, n_classes], mean = 0, stddev = 0.1))\n",
    "}\n",
    "\n",
    "biases = {\n",
    "    'bc1' : tf.Variable(tf.zeros(32)),\n",
    "    'bc2' : tf.Variable(tf.zeros(64)),\n",
    "    'bfc1': tf.Variable(tf.zeros(1024)),\n",
    "    'bfc2': tf.Variable(tf.zeros(400)),\n",
    "    'out' : tf.Variable(tf.zeros(n_classes))\n",
    "}\n",
    "\n",
    "x = tf.placeholder(tf.float32, (None, 32, 32, 3))\n",
    "y = tf.placeholder(tf.int32,[None])\n",
    "dropout = tf.placeholder(tf.float32)\n",
    "one_hot_y = tf.one_hot(y,depth=43, on_value = 1., off_value = 0., axis=-1)\n",
    "\n",
    "logits = conv_net(x,dropout)\n",
    "cross_entropy = tf.nn.softmax_cross_entropy_with_logits(labels = one_hot_y, logits = logits)\n",
    "cost = tf.reduce_mean(cross_entropy)\n",
    "optimizer = tf.train.AdamOptimizer(learning_rate = learn_rate).minimize(cost)\n",
    "\n",
    "correct_prediction = tf.equal(tf.argmax(logits,1),tf.argmax(one_hot_y,1))\n",
    "accuracy = tf.reduce_mean(tf.cast(correct_prediction,tf.float32))\n",
    "\n",
    "init = tf.global_variables_initializer()\n",
    "saver = tf.train.Saver()"
   ]
  },
  {
   "cell_type": "code",
   "execution_count": 9,
   "metadata": {
    "collapsed": true
   },
   "outputs": [],
   "source": [
    "def evaluate(X_data, y_data):\n",
    "    \"\"\"Evaluate accuracy of model on given dataset\"\"\"\n",
    "    total_accuracy = 0.0\n",
    "    n_data = len(X_data)\n",
    "    sess = tf.get_default_session()\n",
    "    for start in range(0, n_data, batch_size):\n",
    "        end = start + batch_size\n",
    "        batch_x, batch_y = X_data[start:end], y_data[start: end]\n",
    "        acc = sess.run(accuracy,feed_dict = {x: batch_x, y: batch_y, dropout : 1.0})\n",
    "        total_accuracy += (acc*len(batch_x))\n",
    "    return total_accuracy/n_data\n"
   ]
  },
  {
   "cell_type": "code",
   "execution_count": 41,
   "metadata": {},
   "outputs": [
    {
     "name": "stdout",
     "output_type": "stream",
     "text": [
      "Training....\n",
      "\n",
      "EPOCH 1 ...\n",
      "Validation Accuracy = 0.782\n",
      "\n",
      "EPOCH 2 ...\n",
      "Validation Accuracy = 0.868\n",
      "\n",
      "EPOCH 3 ...\n",
      "Validation Accuracy = 0.885\n",
      "\n",
      "EPOCH 4 ...\n",
      "Validation Accuracy = 0.915\n",
      "\n",
      "EPOCH 5 ...\n",
      "Validation Accuracy = 0.899\n",
      "\n",
      "EPOCH 6 ...\n",
      "Validation Accuracy = 0.926\n",
      "\n",
      "EPOCH 7 ...\n",
      "Validation Accuracy = 0.920\n",
      "\n",
      "EPOCH 8 ...\n",
      "Validation Accuracy = 0.914\n",
      "\n",
      "EPOCH 9 ...\n",
      "Validation Accuracy = 0.928\n",
      "\n",
      "EPOCH 10 ...\n",
      "Validation Accuracy = 0.929\n",
      "\n",
      "EPOCH 11 ...\n",
      "Validation Accuracy = 0.908\n",
      "\n",
      "EPOCH 12 ...\n",
      "Validation Accuracy = 0.918\n",
      "\n",
      "EPOCH 13 ...\n",
      "Validation Accuracy = 0.921\n",
      "\n",
      "EPOCH 14 ...\n",
      "Validation Accuracy = 0.931\n",
      "\n",
      "EPOCH 15 ...\n",
      "Validation Accuracy = 0.949\n",
      "\n",
      "EPOCH 16 ...\n",
      "Validation Accuracy = 0.920\n",
      "\n",
      "EPOCH 17 ...\n",
      "Validation Accuracy = 0.924\n",
      "\n",
      "EPOCH 18 ...\n",
      "Validation Accuracy = 0.938\n",
      "\n",
      "EPOCH 19 ...\n",
      "Validation Accuracy = 0.949\n",
      "\n",
      "EPOCH 20 ...\n",
      "Validation Accuracy = 0.943\n",
      "\n",
      "EPOCH 21 ...\n",
      "Validation Accuracy = 0.933\n",
      "\n",
      "EPOCH 22 ...\n",
      "Validation Accuracy = 0.937\n",
      "\n",
      "EPOCH 23 ...\n",
      "Validation Accuracy = 0.940\n",
      "\n",
      "EPOCH 24 ...\n",
      "Validation Accuracy = 0.942\n",
      "\n",
      "EPOCH 25 ...\n",
      "Validation Accuracy = 0.959\n",
      "\n",
      "Model saved\n"
     ]
    }
   ],
   "source": [
    "from sklearn.utils import shuffle\n",
    "\n",
    "save_file = './lenet'\n",
    "with tf.Session() as sess:\n",
    "    sess.run(init)\n",
    "\n",
    "    print('Training....')\n",
    "    print()\n",
    "    epochs = 0\n",
    "    validation_accuracy = 0.0\n",
    "    while validation_accuracy < 0.95 :\n",
    "        epochs += 1\n",
    "        X_train_norm, y_train = shuffle(X_train_norm,y_train)\n",
    "        for start in range(0,train_size,batch_size):\n",
    "            end = start + batch_size\n",
    "            batch_x, batch_y = X_train_norm[start:end],y_train[start:end]\n",
    "            sess.run(optimizer, feed_dict = {x: batch_x, y: batch_y, dropout: 0.75})\n",
    "\n",
    "        \n",
    "        validation_accuracy = evaluate(X_valid_norm, y_valid)\n",
    "        print(\"EPOCH {} ...\".format(epochs))\n",
    "        print(\"Validation Accuracy = {:.3f}\".format(validation_accuracy))\n",
    "        print()\n",
    "    \n",
    "    saver.save(sess, save_file)\n",
    "    print(\"Model saved\")\n",
    "   "
   ]
  },
  {
   "cell_type": "markdown",
   "metadata": {},
   "source": [
    "### Find accuracy of the model on test images"
   ]
  },
  {
   "cell_type": "code",
   "execution_count": 42,
   "metadata": {},
   "outputs": [
    {
     "name": "stdout",
     "output_type": "stream",
     "text": [
      "INFO:tensorflow:Restoring parameters from ./lenet\n",
      "Test Accuracy = 0.933\n"
     ]
    }
   ],
   "source": [
    "save_file = './lenet'\n",
    "with tf.Session() as sess:\n",
    "    #sess.run(tf.global_variables_initializer())\n",
    "    saver.restore(sess,save_file)\n",
    "    test_accuracy = evaluate(X_test_norm, y_test)\n",
    "    print(\"Test Accuracy = {:.3f}\".format(test_accuracy))"
   ]
  },
  {
   "cell_type": "markdown",
   "metadata": {},
   "source": [
    "### Testing model on new images\n",
    "\n",
    "These images are downloaded from internet. Their size is not 32 X 32; so we have to resize them first then preprocess and then apply them to our classification model."
   ]
  },
  {
   "cell_type": "code",
   "execution_count": 43,
   "metadata": {
    "collapsed": true
   },
   "outputs": [],
   "source": [
    "from PIL import Image\n",
    "def read_image(image_path):\n",
    "    \"\"\"Reads and returns image.\"\"\"\n",
    "    return Image.open(image_path)"
   ]
  },
  {
   "cell_type": "markdown",
   "metadata": {},
   "source": [
    "### Resize Images\n",
    "Resize them and save in a different folder"
   ]
  },
  {
   "cell_type": "code",
   "execution_count": 60,
   "metadata": {
    "collapsed": true
   },
   "outputs": [],
   "source": [
    "import os\n",
    "import matplotlib.image as mpimg\n",
    "\n",
    "width = 32\n",
    "height = 32\n",
    "test_image_folder = 'Test_images/'\n",
    "resized_image_folder = 'Resized_test_images/'\n",
    "test_images = [read_image(test_image_folder + i) for i in os.listdir(test_image_folder)]\n",
    "j = 1\n",
    "for image in test_images:\n",
    "    image = image.resize((width, height), Image.ANTIALIAS) \n",
    "    image.save(resized_image_folder + str(j) + '.jpg')\n",
    "    j += 1\n",
    "resized_images = [read_image(resized_image_folder + i) for i in os.listdir(resized_image_folder)]\n",
    "    \n"
   ]
  },
  {
   "cell_type": "code",
   "execution_count": 61,
   "metadata": {
    "collapsed": true
   },
   "outputs": [],
   "source": [
    "import numpy as np\n",
    "def read_and_norm_resized_images(image_path):\n",
    "    \"\"\"Reads resized image and returns normalized version of it\"\"\"\n",
    "    image = mpimg.imread(image_path)\n",
    "    image = (image - image.mean())/np.std(image)\n",
    "    return image"
   ]
  },
  {
   "cell_type": "code",
   "execution_count": 62,
   "metadata": {},
   "outputs": [
    {
     "name": "stdout",
     "output_type": "stream",
     "text": [
      "INFO:tensorflow:Restoring parameters from ./lenet\n",
      "TopKV2(values=array([[  1.00000000e+00,   0.00000000e+00,   0.00000000e+00,\n",
      "          0.00000000e+00,   0.00000000e+00],\n",
      "       [  1.00000000e+00,   0.00000000e+00,   0.00000000e+00,\n",
      "          0.00000000e+00,   0.00000000e+00],\n",
      "       [  9.99997139e-01,   2.88437673e-06,   1.17867482e-09,\n",
      "          2.36414187e-12,   1.04048773e-14],\n",
      "       [  8.40298533e-01,   1.35727927e-01,   2.33415812e-02,\n",
      "          4.77767986e-04,   7.09496308e-05],\n",
      "       [  7.81274021e-01,   9.38590690e-02,   2.63157208e-02,\n",
      "          2.40957625e-02,   1.67378169e-02],\n",
      "       [  8.36890578e-01,   1.56466961e-01,   4.48168255e-03,\n",
      "          4.76543733e-04,   3.94966162e-04]], dtype=float32), indices=array([[38,  0,  1,  2,  3],\n",
      "       [12,  0,  1,  2,  3],\n",
      "       [ 1,  4,  0, 14, 17],\n",
      "       [17, 12,  5, 13, 37],\n",
      "       [13, 35, 11, 12, 42],\n",
      "       [13, 26, 35, 29, 25]], dtype=int32))\n"
     ]
    }
   ],
   "source": [
    "test_images = [read_and_norm_resized_images(resized_image_folder + i) for i in os.listdir(resized_image_folder)]\n",
    "\n",
    "with tf.Session() as sess:\n",
    "    #sess.run(tf.global_variables_initializer())\n",
    "    saver.restore(sess,save_file)\n",
    "    pred = sess.run(tf.nn.top_k(tf.nn.softmax(logits), k=5), feed_dict = {x : test_images, dropout: 1.0})\n",
    "    print(pred)"
   ]
  },
  {
   "cell_type": "markdown",
   "metadata": {},
   "source": [
    "### Display classification results of new images.\n",
    "Result contains top five predictions for each test image."
   ]
  },
  {
   "cell_type": "code",
   "execution_count": 55,
   "metadata": {},
   "outputs": [
    {
     "data": {
      "image/png": "[encoded data removed]",
      "text/plain": [
       "<matplotlib.figure.Figure at 0x7fa2bfb485f8>"
      ]
     },
     "metadata": {},
     "output_type": "display_data"
    },
    {
     "name": "stdout",
     "output_type": "stream",
     "text": [
      "Classification result for above image: \n",
      "[38  0  1  2  3]\n",
      "============================================\n"
     ]
    }
   ],
   "source": [
    "i = 0    \n",
    "plt.imshow(resized_images[i])\n",
    "plt.show()    \n",
    "print(\"Classification result for above image: \")\n",
    "print(pred[1][i])\n",
    "print(\"============================================\")\n",
    "i = i+1"
   ]
  },
  {
   "cell_type": "markdown",
   "metadata": {},
   "source": [
    "##### Correct"
   ]
  },
  {
   "cell_type": "code",
   "execution_count": 56,
   "metadata": {},
   "outputs": [
    {
     "data": {
      "image/png": "[encoded data removed]",
      "text/plain": [
       "<matplotlib.figure.Figure at 0x7fa2bf9e0ba8>"
      ]
     },
     "metadata": {},
     "output_type": "display_data"
    },
    {
     "name": "stdout",
     "output_type": "stream",
     "text": [
      "Classification result for above image: \n",
      "[12  0  1  2  3]\n",
      "============================================\n"
     ]
    }
   ],
   "source": [
    "plt.imshow(resized_images[i])\n",
    "plt.show()    \n",
    "print(\"Classification result for above image: \")\n",
    "print(pred[1][i])\n",
    "print(\"============================================\")\n",
    "i = i+1"
   ]
  },
  {
   "cell_type": "markdown",
   "metadata": {},
   "source": [
    "##### Correct"
   ]
  },
  {
   "cell_type": "code",
   "execution_count": 57,
   "metadata": {},
   "outputs": [
    {
     "data": {
      "image/png": "[encoded data removed]",
      "text/plain": [
       "<matplotlib.figure.Figure at 0x7fa3590b7400>"
      ]
     },
     "metadata": {},
     "output_type": "display_data"
    },
    {
     "name": "stdout",
     "output_type": "stream",
     "text": [
      "Classification result for above image: \n",
      "[ 1  4  0 14 17]\n",
      "============================================\n"
     ]
    }
   ],
   "source": [
    "plt.imshow(resized_images[i])\n",
    "plt.show()    \n",
    "print(\"Classification result for above image: \")\n",
    "print(pred[1][i])\n",
    "print(\"============================================\")\n",
    "i = i+1"
   ]
  },
  {
   "cell_type": "markdown",
   "metadata": {},
   "source": [
    "##### Correct"
   ]
  },
  {
   "cell_type": "code",
   "execution_count": 58,
   "metadata": {},
   "outputs": [
    {
     "data": {
      "image/png": "[encoded data removed]",
      "text/plain": [
       "<matplotlib.figure.Figure at 0x7fa2bfc9df98>"
      ]
     },
     "metadata": {},
     "output_type": "display_data"
    },
    {
     "name": "stdout",
     "output_type": "stream",
     "text": [
      "Classification result for above image: \n",
      "[17 12  5 13 37]\n",
      "============================================\n"
     ]
    }
   ],
   "source": [
    "plt.imshow(resized_images[i])\n",
    "plt.show()    \n",
    "print(\"Classification result for above image: \")\n",
    "print(pred[1][i])\n",
    "print(\"============================================\")\n",
    "i = i+1"
   ]
  },
  {
   "cell_type": "markdown",
   "metadata": {},
   "source": [
    "##### Incorrect"
   ]
  },
  {
   "cell_type": "code",
   "execution_count": 59,
   "metadata": {},
   "outputs": [
    {
     "data": {
      "image/png": "[encoded data removed]",
      "text/plain": [
       "<matplotlib.figure.Figure at 0x7fa2bfa1b898>"
      ]
     },
     "metadata": {},
     "output_type": "display_data"
    },
    {
     "name": "stdout",
     "output_type": "stream",
     "text": [
      "Classification result for above image: \n",
      "[13 35 11 12 42]\n",
      "============================================\n"
     ]
    }
   ],
   "source": [
    "plt.imshow(resized_images[i])\n",
    "plt.show()    \n",
    "print(\"Classification result for above image: \")\n",
    "print(pred[1][i])\n",
    "print(\"============================================\")\n",
    "i = i+1"
   ]
  },
  {
   "cell_type": "markdown",
   "metadata": {},
   "source": [
    "##### Correct"
   ]
  },
  {
   "cell_type": "code",
   "execution_count": 63,
   "metadata": {},
   "outputs": [
    {
     "data": {
      "image/png": "[encoded data removed]",
      "text/plain": [
       "<matplotlib.figure.Figure at 0x7fa2bfa1d7b8>"
      ]
     },
     "metadata": {},
     "output_type": "display_data"
    },
    {
     "name": "stdout",
     "output_type": "stream",
     "text": [
      "Classification result for above image: \n",
      "[13 26 35 29 25]\n",
      "============================================\n"
     ]
    }
   ],
   "source": [
    "plt.imshow(resized_images[i])\n",
    "plt.show()    \n",
    "print(\"Classification result for above image: \")\n",
    "print(pred[1][i])\n",
    "print(\"============================================\")\n",
    "i = i+1"
   ]
  },
  {
   "cell_type": "markdown",
   "metadata": {},
   "source": [
    "##### Incorrect"
   ]
  },
  {
   "cell_type": "markdown",
   "metadata": {},
   "source": [
    "### Performance with new images"
   ]
  },
  {
   "cell_type": "markdown",
   "metadata": {},
   "source": [
    "Our model is classifying 4 out of 6 images correctly. So the crude accuracy on the unseen images is $0.67$ against the obtained test accuraacy of  $ 0.93 $\n",
    "\n",
    "One thing to note from the output of these images is that first and last images correspond to same traffic sign 'Keep right' but the network is classifying the earlier one correctly with full ceratinity but the later one incorrectly.  \n",
    "This might be because of the fact that the later image contains lot of extra stuff other than the traffic sign itself. This causes the unequal amout of image captured in the receptive field in training and testing. And this change in the capture of receptive field causes changes in perception and hence the different results. So, the images with lot of different stuffs than the traffic sign and images with size of the traffic sign different than that in the training set can be particularly difficult for our model to classify. One possible solution to this problem is to crop out the extra stuff out of the image and then apply the model.  \n"
   ]
  }
 ],
 "metadata": {
  "kernelspec": {
   "display_name": "Python [conda env:SDCndP1]",
   "language": "python",
   "name": "conda-env-SDCndP1-py"
  },
  "language_info": {
   "codemirror_mode": {
    "name": "ipython",
    "version": 3
   },
   "file_extension": ".py",
   "mimetype": "text/x-python",
   "name": "python",
   "nbconvert_exporter": "python",
   "pygments_lexer": "ipython3",
   "version": "3.6.2"
  }
 },
 "nbformat": 4,
 "nbformat_minor": 2
}
